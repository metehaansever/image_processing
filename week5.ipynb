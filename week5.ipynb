{
 "cells": [
  {
   "cell_type": "code",
   "execution_count": null,
   "metadata": {},
   "outputs": [],
   "source": [
    "import os\n",
    "import matplotlib.pyplot as plt\n",
    "import numpy as np\n",
    "%matplotlib inline\n",
    "os.getcwd(),os.listdir()"
   ]
  },
  {
   "cell_type": "code",
   "execution_count": 3,
   "metadata": {},
   "outputs": [
    {
     "name": "stdout",
     "output_type": "stream",
     "text": [
      "/home/metehan/Masaüstü\n"
     ]
    }
   ],
   "source": [
    "cd Masaüstü"
   ]
  },
  {
   "cell_type": "code",
   "execution_count": 15,
   "metadata": {},
   "outputs": [],
   "source": [
    "def myf0and(l1, l2):\n",
    "    n = len(l1)\n",
    "    s = []\n",
    "    for i in range (n):\n",
    "        a = (list1[i] and list2[i])\n",
    "        s.append(a)\n",
    "    return s\n",
    "\n",
    "def myf1AND_or_OR(l1, operator = 0):\n",
    "    if operator:\n",
    "        if 1 in l1:\n",
    "            s1 = 1\n",
    "        else:\n",
    "            s1 = 0\n",
    "    else:\n",
    "        if 0 in l1:\n",
    "            s1 = 0\n",
    "        else:\n",
    "            s1 = 1\n",
    "    return s1\n",
    "\n",
    "def myf2Combine(l1, l2, op = 0):\n",
    "    a = myf0and(l1, l2)\n",
    "    return myf1AND_or_OR(a, op)"
   ]
  },
  {
   "cell_type": "code",
   "execution_count": null,
   "metadata": {},
   "outputs": [],
   "source": [
    "    img1 = image1      #plt.imread(image1)\n",
    "    img2 = np.zeros((img1.shape[0], img1.shape[1]))\n",
    "    for i in range(img2.shape[0]):\n",
    "        for j in range(img2.shape[1]):\n",
    "            if(img1[i, j, 0]/3 + img1[i, j, 1]/3 + img1[i, j, 1]/3) > threshold:\n",
    "                img2[i, j] = 0\n",
    "            else:\n",
    "                img2[i, j] = 1\n",
    "    return img2"
   ]
  },
  {
   "cell_type": "code",
   "execution_count": 20,
   "metadata": {},
   "outputs": [],
   "source": [
    "def convert_RGB_to_monochrome_BW(image1, threshold = 100):\n",
    "    img1 = image1      #plt.imread(image1)\n",
    "    img2 = np.zeros((img1.shape[0], img1.shape[1]))\n",
    "    for i in range(img2.shape[0]):\n",
    "        for j in range(img2.shape[1]):\n",
    "            if(img1[i, j, 0]/3 + img1[i, j, 1]/3 + img1[i, j, 1]/3) > threshold:\n",
    "                img2[i, j] = 0\n",
    "            else:\n",
    "                img2[i, j] = 1\n",
    "    return img2"
   ]
  },
  {
   "cell_type": "code",
   "execution_count": 21,
   "metadata": {},
   "outputs": [
    {
     "data": {
      "text/plain": [
       "1"
      ]
     },
     "execution_count": 21,
     "metadata": {},
     "output_type": "execute_result"
    }
   ],
   "source": [
    "list1 = [0, 0, 1, 0, 1]\n",
    "list2 = [1, 1, 1, 1, 1]\n",
    "myf2Combine(list1, list2, 1)"
   ]
  },
  {
   "cell_type": "code",
   "execution_count": 24,
   "metadata": {},
   "outputs": [
    {
     "data": {
      "image/png": "[encoded data removed]",
      "text/plain": [
       "<Figure size 432x288 with 2 Axes>"
      ]
     },
     "metadata": {
      "needs_background": "light"
     },
     "output_type": "display_data"
    }
   ],
   "source": [
    "path_file = \"/home/metehan/Masaüstü/hard.png\"\n",
    "img1 = plt.imread(path_file)\n",
    "img2 = convert_RGB_to_monochrome_BW(img1, 0.5)\n",
    "\n",
    "plt.subplot(1, 2, 1), plt.imshow(img1)\n",
    "plt.subplot(1, 2, 2), plt.imshow(img2, cmap = 'gray')\n",
    "plt.show()"
   ]
  },
  {
   "cell_type": "code",
   "execution_count": 25,
   "metadata": {},
   "outputs": [
    {
     "data": {
      "text/plain": [
       "(216, 299, 4)"
      ]
     },
     "execution_count": 25,
     "metadata": {},
     "output_type": "execute_result"
    }
   ],
   "source": [
    "img1.shape"
   ]
  },
  {
   "cell_type": "code",
   "execution_count": 26,
   "metadata": {},
   "outputs": [
    {
     "data": {
      "text/plain": [
       "1.0"
      ]
     },
     "execution_count": 26,
     "metadata": {},
     "output_type": "execute_result"
    }
   ],
   "source": [
    "np.max(img1)"
   ]
  },
  {
   "cell_type": "code",
   "execution_count": 27,
   "metadata": {},
   "outputs": [
    {
     "data": {
      "text/plain": [
       "array([[0., 0., 0., ..., 0., 0., 0.],\n",
       "       [0., 0., 0., ..., 0., 0., 0.],\n",
       "       [0., 0., 0., ..., 0., 0., 0.],\n",
       "       ...,\n",
       "       [0., 0., 0., ..., 0., 0., 0.],\n",
       "       [0., 0., 0., ..., 0., 0., 0.],\n",
       "       [0., 0., 0., ..., 0., 0., 0.]])"
      ]
     },
     "execution_count": 27,
     "metadata": {},
     "output_type": "execute_result"
    }
   ],
   "source": [
    "img2"
   ]
  },
  {
   "cell_type": "code",
   "execution_count": 28,
   "metadata": {},
   "outputs": [],
   "source": [
    "def defineMask1():\n",
    "    mask1 = [[1, 1, 1], [1, 1, 1], [1, 1, 1]]\n",
    "    ###  mask, mask[1][2], mask[0][0], mask[2][2]\n",
    "    ###  for i in range(3):\n",
    "    ###      for j in range(3):\n",
    "    ###          print(mask[i][j], end = \" \")\n",
    "    ###      print()\n",
    "    return mask1\n",
    "\n",
    "\n",
    "def defineMask2():\n",
    "    mask1 = [[0, 0, 0], [0, 0, 0], [0, 0, 0]]\n",
    "    mask, mask[1][2], mask[0][0], mask[2][2]\n",
    "    for i in range(3):\n",
    "        for j in range(3):\n",
    "            print(mask[i][j], end = \" \")\n",
    "        print()\n",
    "    return mask1\n",
    "\n",
    "\n",
    "def myDilation(img1, mask):\n",
    "    m = img1.shape[0]\n",
    "    n = img1.shape[1]\n",
    "    \n",
    "    img2 = np.random.randint(0, 1, (m, n))\n",
    "    for i in range(1, m-1):\n",
    "        for j in range(1, n-1):\n",
    "            \n",
    "            x1 = img1[i, j] == mask[1][1]\n",
    "            \n",
    "            x2 = img1[i-1, j-1] == mask[0][0]\n",
    "            x3 = img1[i-1, j] == mask[0][1]\n",
    "            x4 = img1[i-1, j+1] == mask[0][2]\n",
    "            \n",
    "            x5 = img1[i+1, j-1] == mask[2][0]\n",
    "            x6 = img1[i+1, j] == mask[2][1]\n",
    "            x7 = img1[i+1, j+1] == mask[2][2]\n",
    "            \n",
    "            x8 = img1[i, j-1] == mask[1][0]\n",
    "            x9 = img1[i, j+1] == mask[1][2]\n",
    "            \n",
    "            result1 = x1 or x2 or x3 or x4 or x5\n",
    "            result2 = x6 or x7 or x8 or x9\n",
    "            \n",
    "            result = result1 or result2\n",
    "            \n",
    "            img2[i, j] = result\n",
    "    return img2"
   ]
  },
  {
   "cell_type": "code",
   "execution_count": 29,
   "metadata": {},
   "outputs": [
    {
     "data": {
      "image/png": "[encoded data removed]",
      "text/plain": [
       "<Figure size 1080x1080 with 3 Axes>"
      ]
     },
     "metadata": {
      "needs_background": "light"
     },
     "output_type": "display_data"
    }
   ],
   "source": [
    "img3 = myDilation(img2, defineMask1())\n",
    "\n",
    "plt.figure(figsize = (15,15))\n",
    "plt.subplot(1, 3, 1), plt.imshow(img1)\n",
    "plt.subplot(1, 3, 2), plt.imshow(img2, cmap = 'gray')\n",
    "plt.subplot(1, 3, 3), plt.imshow(img3, cmap = 'gray')\n",
    "plt.show()"
   ]
  },
  {
   "cell_type": "code",
   "execution_count": 30,
   "metadata": {},
   "outputs": [
    {
     "data": {
      "image/png": "[encoded data removed]",
      "text/plain": [
       "<Figure size 1080x1080 with 2 Axes>"
      ]
     },
     "metadata": {
      "needs_background": "light"
     },
     "output_type": "display_data"
    }
   ],
   "source": [
    "img4 = myDilation(img3, defineMask1())\n",
    "img5 = myDilation(img4, defineMask1())\n",
    "img6 = myDilation(img5, defineMask1())\n",
    "img7 = myDilation(img6, defineMask1())\n",
    "plt.figure(figsize = (15,15))\n",
    "plt.subplot(1, 2, 1), plt.imshow(img6, cmap = 'gray')\n",
    "plt.subplot(1, 2, 2), plt.imshow(img7, cmap = 'gray')\n",
    "plt.show()"
   ]
  },
  {
   "cell_type": "code",
   "execution_count": null,
   "metadata": {},
   "outputs": [],
   "source": []
  }
 ],
 "metadata": {
  "kernelspec": {
   "display_name": "Python 3",
   "language": "python",
   "name": "python3"
  },
  "language_info": {
   "codemirror_mode": {
    "name": "ipython",
    "version": 3
   },
   "file_extension": ".py",
   "mimetype": "text/x-python",
   "name": "python",
   "nbconvert_exporter": "python",
   "pygments_lexer": "ipython3",
   "version": "3.8.3"
  }
 },
 "nbformat": 4,
 "nbformat_minor": 4
}
